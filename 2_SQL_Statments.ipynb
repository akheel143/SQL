{
  "nbformat": 4,
  "nbformat_minor": 0,
  "metadata": {
    "colab": {
      "name": "2.SQL Statments",
      "provenance": [],
      "collapsed_sections": [],
      "authorship_tag": "ABX9TyOQkTVo3GnO1HaWAu1hOxZB",
      "include_colab_link": true
    },
    "kernelspec": {
      "name": "python3",
      "display_name": "Python 3"
    },
    "language_info": {
      "name": "python"
    }
  },
  "cells": [
    {
      "cell_type": "markdown",
      "metadata": {
        "id": "view-in-github",
        "colab_type": "text"
      },
      "source": [
        "<a href=\"https://colab.research.google.com/github/akheel143/SQL/blob/main/2_SQL_Statments.ipynb\" target=\"_parent\"><img src=\"https://colab.research.google.com/assets/colab-badge.svg\" alt=\"Open In Colab\"/></a>"
      ]
    },
    {
      "cell_type": "markdown",
      "source": [
        "**INSERT Data into a Table**\n",
        "\n",
        "The INSERT statement is used to insert single or multiple records into a table.\n",
        "Syntax:\n",
        "INSERT INTO table_name(column_name1, column_name2...column_nameN) \n",
        "VALUES(column1_value, column2_value...columnN_value);\n",
        "\n",
        "\n",
        "```\n",
        "# INSERT INTO Employee\n",
        "VALUES(1,'John','King','john.king@abc.com','123.123.1834',33000);\n",
        "```\n",
        "\n",
        "\n",
        "```\n",
        "# INSERT INTO Employee(EmpId, FirstName, LastName)\n",
        "VALUES(2,'James','Bond');\n",
        "```\n",
        "\n",
        "```\n",
        "# INSERT INTO Employee \n",
        "VALUES \n",
        "(3,'Neena','Kochhar','neena@test.com','123.456.4568',17000),\n",
        "(4,'Lex','De Haan','lex@test.com','123.456.4569',15000);\n",
        "```\n",
        "\n",
        "\n",
        "\n"
      ],
      "metadata": {
        "id": "LSr4eHeJB86z"
      }
    },
    {
      "cell_type": "markdown",
      "source": [
        "**UPDATE Statement**\n",
        "\n",
        "The UPDATE TABLE statement is used to update records of the table in the database.\n",
        "\n",
        "Syntax:\n",
        "UPDATE table_name\n",
        "SET column_name1 = new_value,\n",
        "column_name2 = new_value,\n",
        "...\n",
        "[WHERE Condition];\n",
        "\n",
        "\n",
        "\n",
        "```\n",
        "# UPDATE Employee\n",
        "SET email = 'jking@test.com'\n",
        "WHERE EmpId = 1;\n",
        "```\n",
        "\n",
        "\n",
        "```\n",
        "# UPDATE Employee\n",
        "SET Email = 'jb007@test.com', PhoneNo = '111.111.0007'\n",
        "WHERE EmpId = 2;\n",
        "```\n",
        "\n",
        "\n",
        "```\n",
        "# UPDATE Employee \n",
        "SET Salary = Salary + (Salary * 10/100);\n",
        "```\n",
        "\n",
        "\n",
        "\n",
        "```\n",
        "# Update Values from Another Table Copy\n",
        "UPDATE Consultant\n",
        "SET salary = (SELECT salary\n",
        "FROM Employee WHERE Employee.EmpId = Consultant.EmpId);\n",
        "```\n",
        "\n",
        "\n",
        "\n"
      ],
      "metadata": {
        "id": "kuy_9m-PCxUI"
      }
    },
    {
      "cell_type": "markdown",
      "source": [
        "**DELETE Statement**\n",
        "\n",
        "Use the DELETE statement to delete records from the existing table in the current schema or tables of the schema on which you have the DELETE privilege.\n",
        "\n",
        "Syntax:\n",
        "DELETE FROM table_name [WHERE Condition];\n",
        "\n",
        "`DELETE FROM Employee WHERE EmpId = 4;`\n",
        "\n",
        "`DELETE FROM Employee WHERE Salary > 20000;`\n",
        "\n",
        "`DELETE FROM Employee;`"
      ],
      "metadata": {
        "id": "rckC7FD2CxQ_"
      }
    },
    {
      "cell_type": "markdown",
      "source": [
        "**TRUNCATE Table Statement**\n",
        "\n",
        "The TRUNCATE statement is used to delete all rows from a table in the database. It works the same as the DELETE statement, but you cannot use the WHERE clause with the TRUNCATE statement. The deleted rows using the TRUNCATE statement cannot be recovered. It deletes the rows permanently.\n",
        "\n",
        "Syntax\n",
        "TRUNCATE TABLE table_name;\n",
        "\n",
        "`TRUNCATE TABLE Employee;`\n",
        "\n"
      ],
      "metadata": {
        "id": "_6XBHFtaCxOn"
      }
    },
    {
      "cell_type": "markdown",
      "source": [
        "**NULL Value**\n",
        "\n",
        "`SELECT * FROM Employee WHERE PhoneNo IS NULL;`\n",
        "\n",
        "`SELECT * FROM Employee WHERE Email IS NOT NULL;`\n",
        "\n",
        "`UPDATE Employee SET Salary = NULL\n",
        "WHERE EmpId = 1;`\n",
        "\n",
        "\n",
        "\n",
        "\n",
        "\n",
        "\n"
      ],
      "metadata": {
        "id": "kNOQtARKCxL-"
      }
    },
    {
      "cell_type": "markdown",
      "source": [
        ""
      ],
      "metadata": {
        "id": "_RrgMM46CxI0"
      }
    }
  ]
}