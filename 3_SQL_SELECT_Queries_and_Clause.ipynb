{
  "nbformat": 4,
  "nbformat_minor": 0,
  "metadata": {
    "colab": {
      "name": "3.SQL SELECT Queries and Clause",
      "provenance": [],
      "collapsed_sections": [],
      "authorship_tag": "ABX9TyP//6BGY9+XbWgb3mXmdR2S",
      "include_colab_link": true
    },
    "kernelspec": {
      "name": "python3",
      "display_name": "Python 3"
    },
    "language_info": {
      "name": "python"
    }
  },
  "cells": [
    {
      "cell_type": "markdown",
      "metadata": {
        "id": "view-in-github",
        "colab_type": "text"
      },
      "source": [
        "<a href=\"https://colab.research.google.com/github/akheel143/SQL/blob/main/3_SQL_SELECT_Queries_and_Clause.ipynb\" target=\"_parent\"><img src=\"https://colab.research.google.com/assets/colab-badge.svg\" alt=\"Open In Colab\"/></a>"
      ]
    },
    {
      "cell_type": "markdown",
      "source": [
        "**SELECT Queries**\n",
        "\n",
        "The SELECT queries retrieve rows/columns data from one or more existing tables.\n",
        "\n",
        "Syntax:\n",
        "SELECT column1, column2,...columnN \n",
        "FROM table_name"
      ],
      "metadata": {
        "id": "Mr_3wtErFHxR"
      }
    },
    {
      "cell_type": "markdown",
      "source": [
        "Select All Columns\n",
        "\n",
        "\n",
        "```\n",
        "# SELECT * FROM Employee;\n",
        "```\n",
        "Select Specific Columns Data\n",
        "\n",
        "```\n",
        "# SELECT EmpId, FirstName, LastName FROM Employee;\n",
        "```\n",
        "Alias for Columns and Table\n",
        "\n",
        "```\n",
        "# SELECT EmpId \"Employee Id\", FirstName AS Name FROM Employee;\n",
        "```\n",
        "Operators in SELECT Statement\n",
        "\n",
        "\n",
        "```\n",
        "# SELECT EmpId, FirstName + ' ' + LastName AS \"Full Name\" \n",
        "FROM Employee;\n",
        "```\n",
        "FROM Clause\n",
        "\n",
        "\n",
        "```\n",
        "# SELECT * FROM Employee, Deparatment;\n",
        "\n",
        "SELECT Employee.*, Department.* FROM Employee, Deparatment;\n",
        "\n",
        "SELECT emp.*, dept.* FROM Employee emp, Deparatment dept; \n",
        "\n",
        "SELECT emp.FirstName, dept.DipartmentName FROM Employee emp, Deparatment dept;\n",
        "```\n",
        "\n",
        "\n",
        "\n",
        "\n",
        "\n",
        "\n"
      ],
      "metadata": {
        "id": "5g6qJU9SFH8l"
      }
    },
    {
      "cell_type": "markdown",
      "source": [
        "**WHERE Clause**\n",
        "\n",
        "The SELECT query can also have an optional WHERE clause to filter the data. The WHERE clause can include one or more boolean conditions to filter out data of the tables.\n",
        "\n",
        "The WHERE clause always comes after the FROM clause and before GROUP BY, HAVING, and ORDER BY clauses."
      ],
      "metadata": {
        "id": "NpU1gAKzFH_o"
      }
    },
    {
      "cell_type": "markdown",
      "source": [
        "Syntax:\n",
        "\n",
        "SELECT column1, column2,...columnN \n",
        "\n",
        "FROM table_name\n",
        "\n",
        "WHERE conditions"
      ],
      "metadata": {
        "id": "XILDBLW2FICy"
      }
    },
    {
      "cell_type": "markdown",
      "source": [
        "SELECT Query with WHERE Clause\n",
        "```\n",
        "# SELECT * FROM Employee \n",
        "WHERE Salary > 16000;\n",
        "```\n",
        " BETWEEN Operator in WHERE Clause\n",
        "```\n",
        "# SELECT * FROM Employee \n",
        "WHERE Salary BETWEEN 15000 AND 20000;\n",
        "```\n",
        "Multiple Conditions in WHERE Clause\n",
        "\n",
        "```\n",
        "# SELECT * FROM Employee \n",
        "WHERE DeptId = 1 AND Salary > 20000;\n",
        "```\n",
        "Subquery in WHERE Clause\n",
        "```\n",
        "# SELECT * FROM Employee \n",
        "WHERE DeptId = (SELECT DeptId FROM Department WHERE Name = \"HR\");\n",
        "```\n",
        "\n",
        "\n",
        "\n",
        "\n",
        "\n"
      ],
      "metadata": {
        "id": "fTCjzJ5JFIFu"
      }
    },
    {
      "cell_type": "markdown",
      "source": [
        "Conditional Operators\n",
        "\n",
        "The following operators can be used in the WHERE conditions.\n",
        "\n",
        "\n",
        "Operator\tDescription\n",
        "\n",
        "=\tEqual\n",
        "\n",
        ">\tGreater than\n",
        "\n",
        "<\tLess than\n",
        "\n",
        ">=\tGreater than or equal\n",
        "\n",
        "<=\tLess than or equal\n",
        "\n",
        "<> or !=\tNot equal. In some databases, \n",
        "the != is used to compare values which are not equal.\n",
        "\n",
        "BETWEEN\tBetween some range\n",
        "\n",
        "LIKE\tSearch for a pattern\n",
        "\n",
        "IN\tTo specify multiple possible values for a column"
      ],
      "metadata": {
        "id": "kimogQKqFIJR"
      }
    },
    {
      "cell_type": "markdown",
      "source": [
        "**GROUP BY Clause**\n",
        "\n",
        "\n",
        "The GROUP BY clause is used to get the summary data based on one or more groups. The groups can be formed on one or more columns. For example, the GROUP BY query will be used to count the number of employees in each department, or to get the department wise total salaries.\n",
        "\n",
        "\n",
        "You must use the aggregate functions such as COUNT(), MAX(), MIN(), SUM(), AVG(), etc., in the SELECT query. The result of the GROUP BY clause returns a single row for each value of the GROUP BY column."
      ],
      "metadata": {
        "id": "zQunApmyHgGd"
      }
    },
    {
      "cell_type": "markdown",
      "source": [
        "Syntax:\n",
        "\n",
        "\n",
        "SELECT column1, column2,...columnN FROM \n",
        "\n",
        "table_name\n",
        "\n",
        "[WHERE]\n",
        "\n",
        "[GROUP BY column1, column2...columnN]\n",
        "\n",
        "[HAVING]\n",
        "\n",
        "[ORDER BY]"
      ],
      "metadata": {
        "id": "vU4d2zhgH8ge"
      }
    },
    {
      "cell_type": "markdown",
      "source": [
        "\n",
        "\n",
        "```\n",
        "# SELECT DeptId, COUNT(EmpId) as 'Number of Employees' \n",
        "FROM Employee\n",
        "GROUP BY DeptId;\n",
        "\n",
        "--following query will return same data as above\n",
        "SELECT DeptId, COUNT(*) as 'No of Employees' \n",
        "FROM Employee\n",
        "GROUP BY DeptId;\n",
        "```\n",
        "\n",
        "\n",
        "\n",
        "```\n",
        "# SELECT dept.Name as 'Department', count(emp.empid) as 'No of Employees'\n",
        "FROM Employee emp, Department dept\n",
        "WHERE emp.deptid = dept.DeptId\n",
        "GROUP by dept.Name\n",
        "```\n",
        "\n",
        "\n",
        "\n",
        "```\n",
        "# SELECT dept.Name, sum(emp.salary) as 'Total Salaries'\n",
        "FROM Employee emp, Department dept\n",
        "WHERE emp.deptid = dept.DeptId\n",
        "GROUP by dept.Name\n",
        "```\n"
      ],
      "metadata": {
        "id": "le6fhYESIB2P"
      }
    },
    {
      "cell_type": "markdown",
      "source": [
        "**HAVING Clause**\n",
        "\n",
        "The HAVING clause includes one or more conditions that should be TRUE for groups of records. It is like the WHERE clause of the GROUP BY clause. The only difference is that the WHERE clause cannot be used with aggregate functions, whereas the HAVING clause can use aggregate functions.\n",
        "\n",
        "The HAVING clause always comes after the GROUP BY clause and before the ORDER BY clause."
      ],
      "metadata": {
        "id": "xzVz7TWXIiMT"
      }
    },
    {
      "cell_type": "markdown",
      "source": [
        "Syntax:\n",
        "\n",
        "\n",
        "SELECT column1, column2,...columnN \n",
        "\n",
        "FROM table_name\n",
        "\n",
        "[WHERE]\n",
        "\n",
        "[GROUP BY column1, column2...columnN]\n",
        "\n",
        "[HAVING conditions]\n",
        "\n",
        "[ORDER BY]"
      ],
      "metadata": {
        "id": "j3nLUrysIiI5"
      }
    },
    {
      "cell_type": "markdown",
      "source": [
        "\n",
        "\n",
        "```\n",
        "# SELECT DeptId, COUNT(EmpId) as 'Number of Employees' \n",
        "FROM Employee\n",
        "GROUP BY DeptId;\n",
        "```\n",
        "\n",
        "\n",
        "\n",
        "```\n",
        "#\n",
        "SELECT DeptId, COUNT(EmpId) as 'Number of Employees' \n",
        "FROM Employee\n",
        "GROUP BY DeptId;\n",
        "HAVING COUNT(EmpId) > 2\n",
        "```\n",
        "\n",
        "\n"
      ],
      "metadata": {
        "id": "2JiLOGs6IiGE"
      }
    },
    {
      "cell_type": "markdown",
      "source": [
        "**ORDER BY Clause**\n",
        "\n",
        "The ORDER BY clause can be used in the SELECT query to sort the result in ascending or descending order of one or more columns.\n",
        "\n",
        "Syntax:\n",
        "\n",
        "SELECT column1, column2,...columnN \n",
        "\n",
        "FROM table_name\n",
        "\n",
        "[WHERE]\n",
        "\n",
        "[GROUP BY]\n",
        "\n",
        "[HAVING]\n",
        "\n",
        "[ORDER BY column(s) [ASC|DESC]]"
      ],
      "metadata": {
        "id": "QG7A36XjIiDY"
      }
    },
    {
      "cell_type": "markdown",
      "source": [
        "\n",
        "\n",
        "```\n",
        "# SELECT * FROM Employee\n",
        "ORDER BY FirstName;\n",
        "```\n",
        "\n",
        "\n",
        "```\n",
        "Sorting in Descending Order Copy\n",
        "#SELECT EmpId, FirstName, LastName FROM Employee\n",
        "ORDER BY FirstName DESC;\n",
        "```\n",
        "\n",
        "\n",
        "```\n",
        "Sort by Multiple Columns\n",
        "# SELECT * FROM Employee\n",
        "ORDER BY DeptId;\n",
        "```\n",
        "\n",
        "\n",
        "```\n",
        "Sort Group of Records\n",
        "# SELECT dept.Name as 'Department', count(emp.empid) as 'No of Employees'\n",
        "FROM Employee emp, Department dept\n",
        "WHERE emp.deptid = dept.DeptId\n",
        "GROUP by dept.Name\n",
        "ORDER BY dept.Name DESC\n",
        "```\n",
        "\n",
        "\n",
        "\n",
        "\n"
      ],
      "metadata": {
        "id": "fkn_BKm-JNiZ"
      }
    },
    {
      "cell_type": "markdown",
      "source": [
        ""
      ],
      "metadata": {
        "id": "HNNDm8USJsIb"
      }
    }
  ]
}