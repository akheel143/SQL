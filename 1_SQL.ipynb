{
  "nbformat": 4,
  "nbformat_minor": 0,
  "metadata": {
    "colab": {
      "name": "1.SQL",
      "provenance": [],
      "collapsed_sections": [],
      "authorship_tag": "ABX9TyPl71ux70qFe2wlGL/atJfC",
      "include_colab_link": true
    },
    "kernelspec": {
      "name": "python3",
      "display_name": "Python 3"
    },
    "language_info": {
      "name": "python"
    }
  },
  "cells": [
    {
      "cell_type": "markdown",
      "metadata": {
        "id": "view-in-github",
        "colab_type": "text"
      },
      "source": [
        "<a href=\"https://colab.research.google.com/github/akheel143/SQL/blob/main/1_SQL.ipynb\" target=\"_parent\"><img src=\"https://colab.research.google.com/assets/colab-badge.svg\" alt=\"Open In Colab\"/></a>"
      ]
    },
    {
      "cell_type": "markdown",
      "source": [
        "**Creat a Database**\n",
        "\n",
        "Syntax:\n",
        "\n",
        "CREATE DATABASES database_name\n",
        "\n",
        "```\n",
        "# ex:CREAT DATABASE employee\n",
        "```"
      ],
      "metadata": {
        "id": "qOBFneApglHl"
      }
    },
    {
      "cell_type": "markdown",
      "source": [
        "**Create Table in the Database**\n",
        "\n",
        "Syntax:\n",
        "\n",
        "CREATE TABLE table_name(\n",
        "    \n",
        "    column_name1 data_type [NULL|NOT NULL,\n",
        "    \n",
        "    column_name2 data_type [NULL|NOT NULL,\n",
        "    \n",
        "    ...\n",
        "\n",
        ");\n",
        "Example:\n",
        "\n",
        "```\n",
        "# CREATE TABLE Employee(\n",
        "    EmpId integer, \n",
        "    FirstName varchar(20), \n",
        "    LastName varchar(20), \n",
        "    Email varchar(25), \n",
        "    PhoneNo varchar(25), \n",
        "    Salary integer\n",
        ");\n",
        "```"
      ],
      "metadata": {
        "id": "rgTfVSq6glEB"
      }
    },
    {
      "cell_type": "markdown",
      "source": [
        "1.Create Table with Primary Key\n",
        "\n",
        "```\n",
        "# CREATE TABLE Employee (\n",
        "    EmpId integer PRIMARY KEY, \n",
        "    FirstName varchar(20), \n",
        "    LastName varchar(20), \n",
        "    Email varchar(25), \n",
        "    PhoneNo varchar(25), \n",
        "    Salary integer\n",
        ");\n",
        "```"
      ],
      "metadata": {
        "id": "GTV3lb4MglBi"
      }
    },
    {
      "cell_type": "markdown",
      "source": [
        "2.Create New Table from Existing Table\n",
        "\n",
        "```\n",
        "# CREATE TABLE Employee_Backup AS SELECT * FROM Employee;\n",
        "```\n",
        "\n"
      ],
      "metadata": {
        "id": "o-IEHWNLgk_D"
      }
    },
    {
      "cell_type": "markdown",
      "source": [
        "3.Create a Copy of a Table with Data\n",
        "\n",
        "```\n",
        "# CREATE TABLE TempEmployee as (SELECT EmpId, FirstName, LastName FROM Employee);\n",
        "```\n",
        "\n"
      ],
      "metadata": {
        "id": "9dNZt5g0gk8u"
      }
    },
    {
      "cell_type": "markdown",
      "source": [
        "**ALTER TABLE**\n",
        "\n",
        "The ALTER command is a DDL command to modify the structure of existing tables in the database by adding, modifying, renaming, or dropping columns and constraints. You can add columns, rename columns, delete columns, or change the data type of columns using the ALTER command."
      ],
      "metadata": {
        "id": "hu3HIBHWjTrX"
      }
    },
    {
      "cell_type": "markdown",
      "source": [
        "1.Use ALTER TABLE ADD command to add new columns in the database table.\n",
        "\n",
        "Syntax:\n",
        "\n",
        "ALTER TABLE table_name \n",
        "\n",
        "ADD column_name1 data_type,\n",
        "\n",
        "column_name2 data_type,\n",
        "\n",
        "example:\n",
        "\n",
        "```\n",
        "# ALTER TABLE Employee \n",
        "ADD(Address VARCHAR2(100),\n",
        "    City VARCHAR2(25),\n",
        "    PinCode NUMBER);\n",
        "```\n",
        "\n"
      ],
      "metadata": {
        "id": "n9T-VCevjq0P"
      }
    },
    {
      "cell_type": "markdown",
      "source": [
        "2.Rename Columns\n",
        "\n",
        "ALTER TABLE table_name \n",
        "\n",
        "RENAME COLUMN old_column_name TO \n",
        "\n",
        "new_column_name;\n",
        "\n",
        "example:\n",
        "\n",
        "\n",
        "```\n",
        "# ALTER TABLE Employee \n",
        "RENAME COLUMN PinCode TO ZipCode;\n",
        "```\n",
        "\n"
      ],
      "metadata": {
        "id": "G-pQfpBAkiFm"
      }
    },
    {
      "cell_type": "markdown",
      "source": [
        "3.Modify Column Data Type and Size\n",
        "\n",
        "```\n",
        "# ALTER TABLE Employee ALTER COLUMN FirstName VARCHAR(50);\n",
        "```\n",
        "example:\n",
        "\n",
        "\n",
        "```\n",
        "# ALTER TABLE Employee \n",
        "ALTER COLUMN FirstName VARCHAR(50);\n",
        "```\n",
        "\n"
      ],
      "metadata": {
        "id": "PuzzdRSelGHU"
      }
    },
    {
      "cell_type": "markdown",
      "source": [
        "4.Delete Columns from a Table\n",
        "\n",
        "Syntax:\n",
        "\n",
        "ALTER TABLE table_name DROP column_name1, \n",
        "column_name2...;\n",
        "\n",
        "example:\n",
        "\n",
        "\n",
        "```\n",
        "# ALTER TABLE Employee DROP COLUMN Address;\n",
        "ALTER TABLE Employee DROP COLUMN Address, City, Pincode; -- deletes multiple columns\n",
        "```\n",
        "\n"
      ],
      "metadata": {
        "id": "Brb1l1kKlGnq"
      }
    },
    {
      "cell_type": "markdown",
      "source": [
        ""
      ],
      "metadata": {
        "id": "aDW3DSjllHYh"
      }
    }
  ]
}